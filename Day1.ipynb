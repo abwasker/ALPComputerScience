{
  "nbformat": 4,
  "nbformat_minor": 0,
  "metadata": {
    "colab": {
      "provenance": [],
      "authorship_tag": "ABX9TyMRIUM5vAFrcMk32cqDJL+f",
      "include_colab_link": true
    },
    "kernelspec": {
      "name": "python3",
      "display_name": "Python 3"
    },
    "language_info": {
      "name": "python"
    }
  },
  "cells": [
    {
      "cell_type": "markdown",
      "metadata": {
        "id": "view-in-github",
        "colab_type": "text"
      },
      "source": [
        "<a href=\"https://colab.research.google.com/github/abwasker/ALPComputerScience/blob/main/Day1.ipynb\" target=\"_parent\"><img src=\"https://colab.research.google.com/assets/colab-badge.svg\" alt=\"Open In Colab\"/></a>"
      ]
    },
    {
      "cell_type": "code",
      "execution_count": null,
      "metadata": {
        "colab": {
          "base_uri": "https://localhost:8080/"
        },
        "id": "SkdTX9Qty9I6",
        "outputId": "ae962af7-d696-4658-a41c-4cda7d434037"
      },
      "outputs": [
        {
          "output_type": "stream",
          "name": "stdout",
          "text": [
            "hello world\n"
          ]
        }
      ],
      "source": [
        "print(\"hello world\")"
      ]
    },
    {
      "cell_type": "markdown",
      "source": [
        "##Markdown\n",
        "this is some text\n",
        "#Title1\n",
        "##Title 2\n",
        "###Title 3\n",
        "\n",
        "```\n",
        "# This is formatted as code\n",
        "print(\"Hello World\")\n",
        "```\n",
        "\n",
        "\n"
      ],
      "metadata": {
        "id": "u83W5vve0LLM"
      }
    },
    {
      "cell_type": "code",
      "source": [
        "\"\"\"\n",
        "This next command is how to print something\n",
        "\n",
        "\"\"\"\n",
        "print(\"HEllO\") #this is a comment to show you how to write it\n"
      ],
      "metadata": {
        "colab": {
          "base_uri": "https://localhost:8080/"
        },
        "id": "XJq2-AKB0h2o",
        "outputId": "90e5b94b-f28e-4961-e535-d41f39d5f2b7"
      },
      "execution_count": null,
      "outputs": [
        {
          "output_type": "stream",
          "name": "stdout",
          "text": [
            " HEllO\n"
          ]
        }
      ]
    },
    {
      "cell_type": "code",
      "source": [
        "print(\"....?\")\n",
        "print(\" \")\n",
        "print(\" \")\n",
        "print(\" \")\n",
        "print(\"A carrot!\")"
      ],
      "metadata": {
        "colab": {
          "base_uri": "https://localhost:8080/"
        },
        "id": "woJUgZ9I8-lb",
        "outputId": "aae7aab3-0954-4172-9ce3-30232df0b02b"
      },
      "execution_count": null,
      "outputs": [
        {
          "output_type": "stream",
          "name": "stdout",
          "text": [
            "....?\n",
            " \n",
            " \n",
            " \n",
            "A carrot!\n"
          ]
        }
      ]
    },
    {
      "cell_type": "code",
      "source": [
        "print(\"adsfadsf? a carrot!\")\n",
        "print(\" a carrot\")"
      ],
      "metadata": {
        "colab": {
          "base_uri": "https://localhost:8080/"
        },
        "id": "u_3EJw8Y-lkT",
        "outputId": "3b77e548-7a86-4cf5-f206-6494eea42983"
      },
      "execution_count": null,
      "outputs": [
        {
          "output_type": "stream",
          "name": "stdout",
          "text": [
            "adsfadsf? a carrot!\n",
            " a carrot\n"
          ]
        }
      ]
    },
    {
      "cell_type": "markdown",
      "source": [
        "#Programming Variables\n",
        "##Task 2"
      ],
      "metadata": {
        "id": "c415j_GbBU2f"
      }
    },
    {
      "cell_type": "code",
      "source": [
        "name1 = \"adf\"\n",
        "name2 = \"dsf\"\n",
        "name3 = \"Duff\"\n",
        "name4 = \"Izzy\"\n",
        "\n",
        "print(name1, \" and \" + name2 + \" and \" +name3, \" and \"+ name4)"
      ],
      "metadata": {
        "colab": {
          "base_uri": "https://localhost:8080/"
        },
        "id": "Fd8UxLOw-2A1",
        "outputId": "02ba5700-eb1a-431e-c75c-89ada468bb89"
      },
      "execution_count": null,
      "outputs": [
        {
          "output_type": "stream",
          "name": "stdout",
          "text": [
            "adf  and dsf and Duff  and Izzy\n"
          ]
        }
      ]
    },
    {
      "cell_type": "markdown",
      "source": [
        "##Task3"
      ],
      "metadata": {
        "id": "m7O5wGU3CC8J"
      }
    },
    {
      "cell_type": "markdown",
      "source": [
        "#Programming Input\n",
        "\n",
        "##Task 1"
      ],
      "metadata": {
        "id": "eHCRdAPBD7oW"
      }
    },
    {
      "cell_type": "code",
      "source": [
        "#print(\"What is your name?\")\n",
        "name = input(\"What is your name?\")\n",
        "print(\"Your name is \",name)"
      ],
      "metadata": {
        "colab": {
          "base_uri": "https://localhost:8080/"
        },
        "id": "2uttNnPZECAB",
        "outputId": "4eeb6656-3ad6-48d0-e69f-f360555cc3d1"
      },
      "execution_count": null,
      "outputs": [
        {
          "output_type": "stream",
          "name": "stdout",
          "text": [
            "What is your name?Anosh\n",
            "Your name is  Anosh\n"
          ]
        }
      ]
    },
    {
      "cell_type": "code",
      "source": [
        "plant = \"apple tree\"\n",
        "print(plant)\n",
        "plant =\" mango tree\"\n",
        "print(plant)"
      ],
      "metadata": {
        "colab": {
          "base_uri": "https://localhost:8080/"
        },
        "id": "RDaFiTfMEQWv",
        "outputId": "b35eabb9-c2b4-4601-fd83-f0b4fbd5be39"
      },
      "execution_count": null,
      "outputs": [
        {
          "output_type": "stream",
          "name": "stdout",
          "text": [
            "apple tree\n",
            " mango tree\n"
          ]
        }
      ]
    },
    {
      "cell_type": "code",
      "source": [],
      "metadata": {
        "id": "bFRi_kjFFkwt"
      },
      "execution_count": null,
      "outputs": []
    },
    {
      "cell_type": "markdown",
      "source": [
        "#Progra... Chat-Bot"
      ],
      "metadata": {
        "id": "eIBQ7yskZCcb"
      }
    },
    {
      "cell_type": "code",
      "source": [],
      "metadata": {
        "id": "Av6yqL3DZDwf"
      },
      "execution_count": null,
      "outputs": []
    },
    {
      "cell_type": "markdown",
      "source": [
        "#Task 5 Area Calculator"
      ],
      "metadata": {
        "id": "_7Uim77Ai7SD"
      }
    },
    {
      "cell_type": "code",
      "source": [
        "length = int(input(\"....\"))"
      ],
      "metadata": {
        "id": "2wsZf15Ui-8J"
      },
      "execution_count": null,
      "outputs": []
    },
    {
      "cell_type": "code",
      "source": [
        "num1 = 10\n",
        "num2 = 50\n",
        "num3 = 45\n",
        "if num1 > num2:\n",
        "  print(\"yes\")\n",
        "  a = 76+32\n",
        "  print(a)\n",
        "\n",
        "else:\n",
        "  print()\n",
        "\n",
        "print(\"no\")"
      ],
      "metadata": {
        "colab": {
          "base_uri": "https://localhost:8080/"
        },
        "id": "i86UeWFBsg5e",
        "outputId": "d882bfc5-bf22-40da-abff-a567fa6f4b0d"
      },
      "execution_count": null,
      "outputs": [
        {
          "output_type": "stream",
          "name": "stdout",
          "text": [
            "\n",
            "no\n"
          ]
        }
      ]
    },
    {
      "cell_type": "code",
      "source": [],
      "metadata": {
        "id": "3zKFyhk4spfw"
      },
      "execution_count": null,
      "outputs": []
    }
  ]
}